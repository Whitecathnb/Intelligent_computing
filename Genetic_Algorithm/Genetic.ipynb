{
 "cells": [
  {
   "cell_type": "code",
   "execution_count": 4,
   "id": "b9ac3b62",
   "metadata": {},
   "outputs": [
    {
     "name": "stdout",
     "output_type": "stream",
     "text": [
      "Sum(nums)= 23418\n",
      "Right answer= 2341.8\n"
     ]
    },
    {
     "data": {
      "image/png": "[encoded data removed]",
      "text/plain": [
       "<Figure size 640x480 with 1 Axes>"
      ]
     },
     "metadata": {},
     "output_type": "display_data"
    },
    {
     "name": "stdout",
     "output_type": "stream",
     "text": [
      "Given optimal solution= [85, 366, 366, 224, 35, 350, 135, 190, 397, 194]\n",
      "sum(solution)= 2342\n",
      "Fitness function value= 5.0000000000045475\n"
     ]
    }
   ],
   "source": [
    "\"\"\"\n",
    "题目：在一个长度为n的数组nums中选择10个元素，\n",
    "使得10个元素的和与原数组的所有元素之和的1/10无限接近\n",
    "例如：n=50,sum(nums)=1000, 选择的元素列表answer要满足|sum（answer)-10|<e,e尽可能小\n",
    "\"\"\"\n",
    "\n",
    "\"\"\"\n",
    "遗传算法：\n",
    "1.创建随机解集\n",
    "2.两解交换信息---适应度函数f(x)=1/error\n",
    "3.选择信息变异\n",
    "4.去除劣势的解(与2合并为一个函数)\n",
    "\"\"\"\n",
    "\n",
    "import random\n",
    "import numpy\n",
    "import matplotlib.pyplot as plt\n",
    "\n",
    "def create_answer(number_set,n): #创建随机解集\n",
    "    result=[]\n",
    "    for i in range(n):\n",
    "        result.append(random.sample(number_set,10))\n",
    "    return result\n",
    "\n",
    "# 产生选择概率\n",
    "def Fitness_value(new_answer,number_set):\n",
    "    Fit_value=[]\n",
    "    right_value=sum(number_set)/10\n",
    "    for item in new_answer:\n",
    "        error=abs(sum(item)-right_value)\n",
    "        if error==0:\n",
    "            Fit_value.append(10) # error最小设为0.1(<1)\n",
    "        else:\n",
    "            Fit_value.append(1/error)\n",
    "    return Fit_value\n",
    "\n",
    "# 产生后代（优秀父母繁衍） --- 染色体交叉\n",
    "def Genetic_crossover(old_answer,number_set):\n",
    "    result=[] # 保存后代\n",
    "    Fitvalue=Fitness_value(old_answer,number_set)\n",
    "    # 适应度函数归一化\n",
    "    Fitvalue=[item/sum(Fitvalue) for item in Fitvalue]\n",
    "    for i in range(1,len(Fitvalue)):\n",
    "        Fitvalue[i]+=Fitvalue[i-1]\n",
    "    # 轮盘选择算子进行繁衍\n",
    "    for pairs in range(len(old_answer)//2):\n",
    "        tmp=[] # 保存父母队\n",
    "        # 随机选择一对父/母亲\n",
    "        for j in range(2):\n",
    "            rand=random.uniform(0,1)\n",
    "            for k in range(len(Fitvalue)):\n",
    "                # Fitvalue最左侧\n",
    "                if k==0:\n",
    "                    if rand<Fitvalue[k]:\n",
    "                        tmp.append(old_answer[k])\n",
    "                else:\n",
    "                    if rand>=Fitvalue[k-1] and rand<Fitvalue[k]:\n",
    "                        tmp.append(old_answer[k])\n",
    "        # 染色体交叉\n",
    "        rand = random.randint(0, len(tmp[0]) - 4)\n",
    "        # 取中间的三个基因交换\n",
    "        tmp1=tmp[0][:rand]+tmp[1][rand:rand+3]+tmp[0][rand+3:]\n",
    "        tmp2=tmp[1][:rand]+tmp[0][rand:rand+3]+tmp[1][rand+3:]\n",
    "        result.append(tmp1)\n",
    "        result.append(tmp2)\n",
    "    return result\n",
    "\n",
    "# 变异 -- threshold:变异概率,变异位置的值从总体中随机选择\n",
    "def variation(old_answer,number_set,threshold):\n",
    "    for i in range(len(old_answer)-1):\n",
    "        rand=random.uniform(0,1)\n",
    "        if rand<threshold: # 此时产生变异\n",
    "            place=random.randint(0,9) # 随机变异位置\n",
    "            old_answer[i]=old_answer[i][:place]+random.sample(number_set,1)+old_answer[i][place+1:]\n",
    "    return old_answer\n",
    "\n",
    "\n",
    "number_set=random.sample(range(0,1000),50)\n",
    "# random.sample(list,number) —— 从list中随机抽取number个元素\n",
    "middle_answer=create_answer(number_set,100) # 产生100个初始解集\n",
    "Elite=[] # 保存各代中最优的 (精英)\n",
    "for i in range(1000):\n",
    "    middle_answer=Genetic_crossover(middle_answer,number_set)\n",
    "    middle_answer=variation(middle_answer,number_set,0.1) #变异概率为0.1\n",
    "    Fitvalue=Fitness_value(middle_answer,number_set)\n",
    "    # 选出当代中最优的\n",
    "    index=Fitvalue.index(max(Fitvalue))\n",
    "    # 当代最优保存类型[answer,Fitvalue]\n",
    "    Elite.append([middle_answer[index],Fitvalue[index]])\n",
    "\n",
    "#输出结果\n",
    "print(\"Sum(nums)=\",sum(number_set))\n",
    "print(\"Right answer=\",sum(number_set)/10)\n",
    "# 可视化Fitvalue\n",
    "plt.figure(1)\n",
    "x=[i+1 for i in range(len(Elite))]\n",
    "y=list(Elite[i][1] for i in range(len(Elite)))\n",
    "plt.plot(x,y)\n",
    "plt.xlabel(\"nth generation\")\n",
    "plt.ylabel(\"Fit_value\")\n",
    "plt.show()\n",
    "\n",
    "# 从各代精英中选出最牛逼的那一位精英\n",
    "Elite.sort(key=lambda x:x[1],reverse=True)\n",
    "print(\"Given optimal solution=\",Elite[0][0])\n",
    "print(\"sum(solution)=\",sum(Elite[0][0]))\n",
    "print(\"Fitness function value=\",Elite[0][1])\n"
   ]
  },
  {
   "cell_type": "code",
   "execution_count": null,
   "id": "145080da",
   "metadata": {},
   "outputs": [],
   "source": []
  }
 ],
 "metadata": {
  "kernelspec": {
   "display_name": "Python 3 (ipykernel)",
   "language": "python",
   "name": "python3"
  },
  "language_info": {
   "codemirror_mode": {
    "name": "ipython",
    "version": 3
   },
   "file_extension": ".py",
   "mimetype": "text/x-python",
   "name": "python",
   "nbconvert_exporter": "python",
   "pygments_lexer": "ipython3",
   "version": "3.9.13"
  }
 },
 "nbformat": 4,
 "nbformat_minor": 5
}
